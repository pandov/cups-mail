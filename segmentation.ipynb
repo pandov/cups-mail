{
  "cells": [
    {
      "cell_type": "markdown",
      "metadata": {
        "id": "view-in-github",
        "colab_type": "text"
      },
      "source": [
        "<a href=\"https://colab.research.google.com/github/pandov/cups-mail/blob/master/segmentation.ipynb\" target=\"_parent\"><img src=\"https://colab.research.google.com/assets/colab-badge.svg\" alt=\"Open In Colab\"/></a>"
      ]
    },
    {
      "cell_type": "code",
      "metadata": {
        "id": "NwDrORydIhSo",
        "colab_type": "code",
        "colab": {}
      },
      "source": [
        "%%capture\n",
        "! sh colab.sh"
      ],
      "execution_count": 1,
      "outputs": []
    },
    {
      "cell_type": "code",
      "metadata": {
        "id": "WF0FsCiaIhTp",
        "colab_type": "code",
        "colab": {}
      },
      "source": [
        "%%capture\n",
        "import torch\n",
        "from catalyst.utils import metrics, set_global_seed, prepare_cudnn\n",
        "from catalyst.dl import Runner\n",
        "from src.nn import BACTERIA, DiceLoss, get_model\n",
        "prepare_cudnn(deterministic=True)\n",
        "set_global_seed(7)"
      ],
      "execution_count": null,
      "outputs": []
    },
    {
      "cell_type": "code",
      "metadata": {
        "id": "qRq_CPJ2IhUK",
        "colab_type": "code",
        "colab": {}
      },
      "source": [
        "criterion = DiceLoss()\n",
        "\n",
        "class CustomRunner(Runner):\n",
        "\n",
        "    def _handle_batch(self, batch):\n",
        "        global criterion\n",
        "        x, y, z = batch\n",
        "        is_train = self.state.stage_name == 'train'\n",
        "        with torch.set_grad_enabled(is_train):\n",
        "            y_pred = self.model(x)\n",
        "            loss = criterion(y_pred, y)\n",
        "            metric = metrics.iou(y_pred, y)\n",
        "            self.state.batch_metrics = {\n",
        "                'loss': loss,\n",
        "                'iou': metric,\n",
        "            }\n",
        "            if is_train:\n",
        "                loss.backward()\n",
        "                self.state.optimizer.step()\n",
        "                self.state.optimizer.zero_grad()"
      ],
      "execution_count": null,
      "outputs": []
    },
    {
      "cell_type": "code",
      "metadata": {
        "id": "Q69mAoolIhUa",
        "colab_type": "code",
        "colab": {}
      },
      "source": [
        "%load_ext tensorboard\n",
        "%tensorboard --logdir logs"
      ],
      "execution_count": null,
      "outputs": []
    },
    {
      "cell_type": "code",
      "metadata": {
        "id": "Qru5C0z1IhVD",
        "colab_type": "code",
        "colab": {}
      },
      "source": [
        "torch.cuda.empty_cache()\n",
        "model = get_model()\n",
        "model.train()\n",
        "dataset = BACTERIA()\n",
        "loaders = next(dataset.crossval(kfold=4, batch_size=9))\n",
        "optimizer = torch.optim.Adam(model.parameters(), lr=1e-3)\n",
        "scheduler = torch.optim.lr_scheduler.StepLR(optimizer, step_size=50, gamma=0.1)\n",
        "runner = CustomRunner()\n",
        "runner.train(\n",
        "    model=model,\n",
        "    optimizer=optimizer,\n",
        "    scheduler=scheduler,\n",
        "    loaders=loaders,\n",
        "    num_epochs=100,\n",
        "    logdir='./logs/segmentation',\n",
        "    # verbose=True,\n",
        ")"
      ],
      "execution_count": null,
      "outputs": []
    },
    {
      "cell_type": "code",
      "metadata": {
        "id": "PRuU8kNkIhX3",
        "colab_type": "code",
        "colab": {}
      },
      "source": [
        "! zip -r logs/segmentation.zip logs/segmentation\n",
        "! git add src logs\n",
        "! git commit -m 'Changed from Colab'\n",
        "! git push -u origin master"
      ],
      "execution_count": null,
      "outputs": []
    },
    {
      "cell_type": "code",
      "metadata": {
        "id": "6fGT_k3qIhYW",
        "colab_type": "code",
        "colab": {}
      },
      "source": [
        ""
      ],
      "execution_count": null,
      "outputs": []
    }
  ],
  "metadata": {
    "orig_nbformat": 2,
    "colab": {
      "name": "segmentation.ipynb",
      "provenance": [],
      "include_colab_link": true
    },
    "kernelspec": {
      "name": "python3",
      "display_name": "Python 3"
    },
    "accelerator": "GPU"
  },
  "nbformat": 4,
  "nbformat_minor": 0
}