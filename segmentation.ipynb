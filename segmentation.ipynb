{
  "cells": [
    {
      "cell_type": "markdown",
      "metadata": {
        "id": "view-in-github",
        "colab_type": "text"
      },
      "source": [
        "<a href=\"https://colab.research.google.com/github/pandov/cups-mail/blob/master/segmentation.ipynb\" target=\"_parent\"><img src=\"https://colab.research.google.com/assets/colab-badge.svg\" alt=\"Open In Colab\"/></a>"
      ]
    },
    {
      "cell_type": "code",
      "metadata": {
        "id": "NwDrORydIhSo",
        "colab_type": "code",
        "colab": {}
      },
      "source": [
        "%%capture\n",
        "! sh colab.sh"
      ],
      "execution_count": null,
      "outputs": []
    },
    {
      "cell_type": "code",
      "metadata": {
        "id": "3UySCIgcSEXS",
        "colab_type": "code",
        "colab": {}
      },
      "source": [
        "%%capture\n",
        "import torch\n",
        "import numpy as np\n",
        "from src.nn import Runner, get_segmentation_components, get_loaders, score_aux\n",
        "logdir = './logs/segmentation'"
      ],
      "execution_count": null,
      "outputs": []
    },
    {
      "cell_type": "code",
      "metadata": {
        "id": "Q69mAoolIhUa",
        "colab_type": "code",
        "colab": {}
      },
      "source": [
        "%load_ext tensorboard\n",
        "%tensorboard --logdir $logdir"
      ],
      "execution_count": null,
      "outputs": []
    },
    {
      "cell_type": "code",
      "execution_count": null,
      "metadata": {},
      "outputs": [],
      "source": [
        "class MultiRunner(Runner):\n",
        "    def _handle_batch(self, batch):\n",
        "        x, y = batch\n",
        "        y_pred = self.model(x)\n",
        "        is_train = self.is_train_loader == True\n",
        "\n",
        "        with torch.set_grad_enabled(is_train):\n",
        "            loss = self.criterion(y_pred, y)\n",
        "            iou = score_aux(y_pred, y)\n",
        "            self.batch_metrics.update({\n",
        "                'iou/_mean': np.mean(iou),\n",
        "                'iou/_median': np.median(iou),\n",
        "                'iou/_min': np.min(iou),\n",
        "                'loss': loss,\n",
        "                'lr': self.state.scheduler.get_last_lr()[0],\n",
        "            })\n",
        "\n",
        "            if is_train:\n",
        "                loss.backward()\n",
        "                self.optimizer.step()\n",
        "                self.optimizer.zero_grad()\n",
        "                if self.loader_batch_step == self.loader_batch_size:\n",
        "                    self.scheduler.step()"
      ]
    },
    {
      "cell_type": "code",
      "metadata": {
        "id": "qRq_CPJ2IhUK",
        "colab_type": "code",
        "colab": {}
      },
      "source": [
        "components = get_segmentation_components('unet', 'resnet50', 'adam', 'steplr')\n",
        "components['loaders'] = get_loaders(keys=['image', 'mask'], batch_size=16)\n",
        "runner = MultiRunner()\n",
        "runner.train(\n",
        "    logdir=logdir,\n",
        "    num_epochs=100,\n",
        "    verbose=True,\n",
        "    **components\n",
        ")"
      ],
      "execution_count": null,
      "outputs": []
    },
    {
      "cell_type": "code",
      "metadata": {
        "id": "PRuU8kNkIhX3",
        "colab_type": "code",
        "colab": {}
      },
      "source": [
        "! zip -r {logdir}.zip {logdir}\n",
        "! git pull origin master\n",
        "! git add logs\n",
        "! git commit -m 'Changed from Colab'\n",
        "! git push -u origin master"
      ],
      "execution_count": null,
      "outputs": []
    },
    {
      "cell_type": "code",
      "metadata": {
        "id": "6fGT_k3qIhYW",
        "colab_type": "code",
        "colab": {}
      },
      "source": [
        ""
      ],
      "execution_count": null,
      "outputs": []
    }
  ],
  "metadata": {
    "orig_nbformat": 2,
    "colab": {
      "name": "segmentation.ipynb",
      "provenance": [],
      "include_colab_link": true
    },
    "kernelspec": {
      "name": "python3",
      "display_name": "Python 3"
    },
    "accelerator": "GPU"
  },
  "nbformat": 4,
  "nbformat_minor": 0
}