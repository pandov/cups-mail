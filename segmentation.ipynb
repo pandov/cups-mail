{
  "cells": [
    {
      "cell_type": "markdown",
      "metadata": {
        "id": "view-in-github",
        "colab_type": "text"
      },
      "source": [
        "<a href=\"https://colab.research.google.com/github/pandov/cups-mail/blob/master/segmentation.ipynb\" target=\"_parent\"><img src=\"https://colab.research.google.com/assets/colab-badge.svg\" alt=\"Open In Colab\"/></a>"
      ]
    },
    {
      "cell_type": "code",
      "metadata": {
        "id": "NwDrORydIhSo",
        "colab_type": "code",
        "colab": {}
      },
      "source": [
        "%%capture\n",
        "! sh colab.sh"
      ],
      "execution_count": null,
      "outputs": []
    },
    {
      "cell_type": "code",
      "metadata": {
        "id": "3UySCIgcSEXS",
        "colab_type": "code",
        "colab": {}
      },
      "source": [
        "%%capture\n",
        "from src.nn import BACTERIA, SupervisedRunner, get_segmentation_components\n",
        "logdir = './logs/segmentation'"
      ],
      "execution_count": null,
      "outputs": []
    },
    {
      "cell_type": "code",
      "metadata": {
        "id": "Q69mAoolIhUa",
        "colab_type": "code",
        "colab": {}
      },
      "source": [
        "%load_ext tensorboard\n",
        "%tensorboard --logdir $logdir"
      ],
      "execution_count": null,
      "outputs": []
    },
    {
      "cell_type": "code",
      "metadata": {
        "id": "qRq_CPJ2IhUK",
        "colab_type": "code",
        "colab": {}
      },
      "source": [
        "%%capture\n",
        "dataset = BACTERIA(target='mask')\n",
        "for i, loaders in enumerate(dataset.crossval(kfold=4, batch_size=16)):\n",
        "    model, optimizer, scheduler, criterion, callbacks = get_segmentation_components(1, 1, 1)\n",
        "    model.train()\n",
        "    runner = SupervisedRunner()\n",
        "    runner.train(\n",
        "        model=model,\n",
        "        criterion=criterion,\n",
        "        optimizer=optimizer,\n",
        "        scheduler=scheduler,\n",
        "        callbacks=callbacks,\n",
        "        loaders=loaders,\n",
        "        logdir=f'{logdir}/{i}',\n",
        "        num_epochs=100,\n",
        "        # verbose=True,\n",
        "    )"
      ],
      "execution_count": null,
      "outputs": []
    },
    {
      "cell_type": "code",
      "metadata": {
        "id": "PRuU8kNkIhX3",
        "colab_type": "code",
        "colab": {}
      },
      "source": [
        "! zip -r {logdir}.zip {logdir}\n",
        "! git pull origin master\n",
        "! git add logs\n",
        "! git commit -m 'Changed from Colab'\n",
        "! git push -u origin master"
      ],
      "execution_count": null,
      "outputs": []
    },
    {
      "cell_type": "code",
      "metadata": {
        "id": "6fGT_k3qIhYW",
        "colab_type": "code",
        "colab": {}
      },
      "source": [
        ""
      ],
      "execution_count": null,
      "outputs": []
    }
  ],
  "metadata": {
    "orig_nbformat": 2,
    "colab": {
      "name": "segmentation.ipynb",
      "provenance": [],
      "include_colab_link": true
    },
    "kernelspec": {
      "name": "python3",
      "display_name": "Python 3"
    },
    "accelerator": "GPU"
  },
  "nbformat": 4,
  "nbformat_minor": 0
}