{
 "cells": [
  {
   "cell_type": "code",
   "execution_count": null,
   "metadata": {},
   "outputs": [],
   "source": [
    "%%capture\n",
    "! sh colab.sh"
   ]
  },
  {
   "cell_type": "code",
   "execution_count": null,
   "metadata": {},
   "outputs": [],
   "source": [
    "%%capture\n",
    "import torch\n",
    "from catalyst.utils import set_global_seed, prepare_cudnn\n",
    "from catalyst.dl import Runner\n",
    "from src.nn import BACTERIA, DiceLoss, get_model\n",
    "prepare_cudnn(deterministic=True)\n",
    "set_global_seed(0)"
   ]
  },
  {
   "cell_type": "code",
   "execution_count": null,
   "metadata": {},
   "outputs": [],
   "source": [
    "criterion = DiceLoss()\n",
    "\n",
    "class CustomRunner(Runner):\n",
    "\n",
    "    def _handle_batch(self, batch):\n",
    "        global criterion\n",
    "        x, y, z = batch\n",
    "        is_train = self.state.stage_name == 'train'\n",
    "        with torch.set_grad_enabled(is_train):\n",
    "            y_pred = self.model(x)\n",
    "            loss = criterion(y_pred, y)\n",
    "            self.state.batch_metrics = {\n",
    "                'loss': loss,\n",
    "            }\n",
    "            if is_train:\n",
    "                loss.backward()\n",
    "                self.state.optimizer.step()\n",
    "                self.state.optimizer.zero_grad()"
   ]
  },
  {
   "cell_type": "code",
   "execution_count": null,
   "metadata": {},
   "outputs": [],
   "source": [
    "%load_ext tensorboard\n",
    "%tensorboard --logdir logs"
   ]
  },
  {
   "cell_type": "code",
   "execution_count": null,
   "metadata": {},
   "outputs": [],
   "source": [
    "torch.cuda.empty_cache()\n",
    "model = get_model()\n",
    "model.train()\n",
    "dataset = BACTERIA()\n",
    "loaders = next(dataset.crossval(kfold=4, batch_size=9))\n",
    "optimizer = torch.optim.Adam(model.parameters(), lr=1e-3)\n",
    "scheduler = torch.optim.lr_scheduler.StepLR(optimizer, step_size=50, gamma=0.1)\n",
    "runner = CustomRunner()\n",
    "runner.train(\n",
    "    model=model,\n",
    "    optimizer=optimizer,\n",
    "    scheduler=scheduler,\n",
    "    loaders=loaders,\n",
    "    num_epochs=100,\n",
    "    logdir='./logs/segmentation',\n",
    "    verbose=True,\n",
    ")"
   ]
  },
  {
   "cell_type": "code",
   "execution_count": null,
   "metadata": {},
   "outputs": [],
   "source": [
    "! zip -r logs/segmentation.zip logs/segmentation\n",
    "! git add src logs\n",
    "! git commit -m 'Changed from Colab'\n",
    "! git push -u origin master"
   ]
  },
  {
   "cell_type": "code",
   "execution_count": null,
   "metadata": {},
   "outputs": [],
   "source": []
  }
 ],
 "metadata": {
  "language_info": {
   "codemirror_mode": {
    "name": "ipython",
    "version": 3
   },
   "file_extension": ".py",
   "mimetype": "text/x-python",
   "name": "python",
   "nbconvert_exporter": "python",
   "pygments_lexer": "ipython3",
   "version": 3
  },
  "orig_nbformat": 2
 },
 "nbformat": 4,
 "nbformat_minor": 2
}