{
  "cells": [
    {
      "cell_type": "markdown",
      "metadata": {
        "id": "view-in-github",
        "colab_type": "text"
      },
      "source": [
        "<a href=\"https://colab.research.google.com/github/pandov/cups-mail/blob/master/segmentation.ipynb\" target=\"_parent\"><img src=\"https://colab.research.google.com/assets/colab-badge.svg\" alt=\"Open In Colab\"/></a>"
      ]
    },
    {
      "cell_type": "code",
      "execution_count": null,
      "metadata": {},
      "outputs": [],
      "source": [
        "from google.colab import drive\n",
        "drive.mount('/content/drive')"
      ]
    },
    {
      "cell_type": "code",
      "metadata": {
        "id": "NwDrORydIhSo",
        "colab_type": "code",
        "colab": {}
      },
      "source": [
        "%%capture\n",
        "! sh colab.sh"
      ],
      "execution_count": null,
      "outputs": []
    },
    {
      "cell_type": "code",
      "metadata": {
        "id": "3UySCIgcSEXS",
        "colab_type": "code",
        "colab": {}
      },
      "source": [
        "%%capture\n",
        "from src.nn import set_grad_enabled, Runner, get_segmentation_components, get_loaders, score_aux\n",
        "logdir = './logs/segmentation'\n",
        "! rm -r {logdir}"
      ],
      "execution_count": null,
      "outputs": []
    },
    {
      "cell_type": "code",
      "metadata": {
        "id": "Q69mAoolIhUa",
        "colab_type": "code",
        "colab": {}
      },
      "source": [
        "%load_ext tensorboard\n",
        "%tensorboard --logdir $logdir"
      ],
      "execution_count": null,
      "outputs": []
    },
    {
      "cell_type": "code",
      "execution_count": null,
      "metadata": {},
      "outputs": [],
      "source": [
        "class MultiRunner(Runner):\n",
        "    def _handle_batch(self, batch):\n",
        "        x, y = batch\n",
        "        y_pred = self.model(x)\n",
        "        is_train = self.is_train_loader == True\n",
        "\n",
        "        with set_grad_enabled(is_train):\n",
        "            loss = self.criterion(y_pred, y)\n",
        "            aux = score_aux(y_pred, y)\n",
        "            self.batch_metrics.update({\n",
        "                'aux': aux,\n",
        "                'loss': loss,\n",
        "                'lr': self.state.scheduler.get_last_lr()[0],\n",
        "            })\n",
        "\n",
        "            if is_train:\n",
        "                loss.backward()\n",
        "                self.optimizer.step()\n",
        "                self.optimizer.zero_grad()\n",
        "            else:\n",
        "                if self.loader_batch_step == self.loader_len:\n",
        "                    self.scheduler.step()"
      ]
    },
    {
      "cell_type": "code",
      "metadata": {
        "id": "qRq_CPJ2IhUK",
        "colab_type": "code",
        "colab": {}
      },
      "source": [
        "net, encoder = 'unet', 'timm-efficientnet-b4'\n",
        "components = get_segmentation_components(net, encoder, 'adam', 'steplr')\n",
        "components['loaders'] = get_loaders(batch_size=8, keys=['image', 'mask'])\n",
        "runner = MultiRunner()\n",
        "runner.train(\n",
        "    logdir=f'{logdir}/{net}_{encoder}',\n",
        "    num_epochs=120,\n",
        "    # verbose=True,\n",
        "    **components\n",
        ")"
      ],
      "execution_count": null,
      "outputs": []
    },
    {
      "cell_type": "code",
      "metadata": {
        "id": "PRuU8kNkIhX3",
        "colab_type": "code",
        "colab": {}
      },
      "source": [
        "logzip = logdir + '.zip'\n",
        "! zip -r {logzip} {logdir}\n",
        "! mv {logzip} 'drive/My Drive/'\n",
        "# ! git pull origin master\n",
        "# ! git add logs\n",
        "# ! git commit -m 'Changed from Colab'\n",
        "# ! git push -u origin master"
      ],
      "execution_count": null,
      "outputs": []
    },
    {
      "cell_type": "code",
      "metadata": {
        "id": "6fGT_k3qIhYW",
        "colab_type": "code",
        "colab": {}
      },
      "source": [
        ""
      ],
      "execution_count": null,
      "outputs": []
    }
  ],
  "metadata": {
    "orig_nbformat": 2,
    "colab": {
      "name": "segmentation.ipynb",
      "provenance": [],
      "include_colab_link": true
    },
    "kernelspec": {
      "name": "python3",
      "display_name": "Python 3"
    },
    "accelerator": "GPU"
  },
  "nbformat": 4,
  "nbformat_minor": 0
}