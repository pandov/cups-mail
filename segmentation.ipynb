{
  "cells": [
    {
      "cell_type": "markdown",
      "metadata": {
        "id": "view-in-github",
        "colab_type": "text"
      },
      "source": [
        "<a href=\"https://colab.research.google.com/github/pandov/cups-mail/blob/master/segmentation.ipynb\" target=\"_parent\"><img src=\"https://colab.research.google.com/assets/colab-badge.svg\" alt=\"Open In Colab\"/></a>"
      ]
    },
    {
      "cell_type": "code",
      "metadata": {
        "id": "NwDrORydIhSo",
        "colab_type": "code",
        "colab": {}
      },
      "source": [
        "%%capture\n",
        "! sh colab.sh"
      ],
      "execution_count": null,
      "outputs": []
    },
    {
      "cell_type": "code",
      "metadata": {
        "id": "WF0FsCiaIhTp",
        "colab_type": "code",
        "colab": {}
      },
      "source": [
        "%%capture\n",
        "import torch\n",
        "from catalyst.utils import get_device, set_global_seed, prepare_cudnn\n",
        "from catalyst.dl import SupervisedRunner, IouCallback\n",
        "from src.nn import BACTERIA, DiceLoss, get_segmentation_model\n",
        "prepare_cudnn(deterministic=True)\n",
        "set_global_seed(0)\n",
        "logdir = './logs/segmentation'"
      ],
      "execution_count": null,
      "outputs": []
    },
    {
      "cell_type": "code",
      "metadata": {
        "id": "Q69mAoolIhUa",
        "colab_type": "code",
        "colab": {}
      },
      "source": [
        "%load_ext tensorboard\n",
        "%tensorboard --logdir $logdir"
      ],
      "execution_count": null,
      "outputs": []
    },
    {
      "cell_type": "code",
      "metadata": {
        "id": "qRq_CPJ2IhUK",
        "colab_type": "code",
        "colab": {}
      },
      "source": [
        "torch.cuda.empty_cache()\n",
        "model = get_segmentation_model()\n",
        "model.train()\n",
        "criterion = DiceLoss()\n",
        "callbacks = [IouCallback()]\n",
        "dataset = BACTERIA(target='mask')\n",
        "loaders = next(dataset.crossval(kfold=4, batch_size=9))\n",
        "optimizer = torch.optim.Adam(model.parameters(), lr=1e-3)\n",
        "scheduler = torch.optim.lr_scheduler.StepLR(optimizer, step_size=40, gamma=0.1)\n",
        "runner = SupervisedRunner(device=get_device())\n",
        "runner.train(\n",
        "    model=model,\n",
        "    criterion=criterion,\n",
        "    optimizer=optimizer,\n",
        "    scheduler=scheduler,\n",
        "    callbacks=callbacks,\n",
        "    loaders=loaders,\n",
        "    logdir=logdir,\n",
        "    num_epochs=100,\n",
        "    # verbose=True,\n",
        ")"
      ],
      "execution_count": null,
      "outputs": []
    },
    {
      "cell_type": "code",
      "metadata": {
        "id": "PRuU8kNkIhX3",
        "colab_type": "code",
        "colab": {}
      },
      "source": [
        "! zip -r {logdir}.zip {logdir}\n",
        "! git add logs\n",
        "! git commit -m 'Changed from Colab'\n",
        "! git push -u origin master"
      ],
      "execution_count": null,
      "outputs": []
    },
    {
      "cell_type": "code",
      "metadata": {
        "id": "6fGT_k3qIhYW",
        "colab_type": "code",
        "colab": {}
      },
      "source": [
        ""
      ],
      "execution_count": null,
      "outputs": []
    }
  ],
  "metadata": {
    "orig_nbformat": 2,
    "colab": {
      "name": "segmentation.ipynb",
      "provenance": [],
      "include_colab_link": true
    },
    "kernelspec": {
      "name": "python3",
      "display_name": "Python 3"
    },
    "accelerator": "GPU"
  },
  "nbformat": 4,
  "nbformat_minor": 0
}