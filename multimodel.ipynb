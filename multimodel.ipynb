{
  "cells": [
    {
      "cell_type": "markdown",
      "metadata": {
        "id": "view-in-github",
        "colab_type": "text"
      },
      "source": [
        "<a href=\"https://colab.research.google.com/github/pandov/cups-mail/blob/master/multimodel.ipynb\" target=\"_parent\"><img src=\"https://colab.research.google.com/assets/colab-badge.svg\" alt=\"Open In Colab\"/></a>"
      ]
    },
    {
      "cell_type": "code",
      "metadata": {
        "id": "NwDrORydIhSo",
        "colab_type": "code",
        "colab": {}
      },
      "source": [
        "%%capture\n",
        "! sh colab.sh"
      ],
      "execution_count": null,
      "outputs": []
    },
    {
      "cell_type": "code",
      "metadata": {
        "id": "3UySCIgcSEXS",
        "colab_type": "code",
        "colab": {}
      },
      "source": [
        "%%capture\n",
        "import torch\n",
        "from src.nn import BACTERIA, Runner, get_multimodel_components, dice_and_iou, score_global, score_segmentation, score_classification\n",
        "logdir = './logs/multimodel'"
      ],
      "execution_count": 2,
      "outputs": []
    },
    {
      "cell_type": "code",
      "metadata": {
        "id": "Q69mAoolIhUa",
        "colab_type": "code",
        "colab": {}
      },
      "source": [
        "%load_ext tensorboard\n",
        "%tensorboard --logdir $logdir"
      ],
      "execution_count": null,
      "outputs": []
    },
    {
      "cell_type": "code",
      "execution_count": null,
      "metadata": {},
      "outputs": [],
      "source": [
        "components = get_multimodel_components('resnet50', 'adam', 'steplr')\n",
        "criterion = components['criterion'].copy()\n",
        "del components['criterion']"
      ]
    },
    {
      "cell_type": "code",
      "execution_count": null,
      "metadata": {},
      "outputs": [],
      "source": [
        "class MultiRunner(Runner):\n",
        "\n",
        "    def _handle_batch(self, batch):\n",
        "        global criterion\n",
        "\n",
        "        x, y, z = batch\n",
        "        y_pred, z_pred = self.model(x)\n",
        "        is_train = self.is_train_loader == True\n",
        "\n",
        "        with torch.set_grad_enabled(is_train):\n",
        "            loss_dice = criterion['dice'](y_pred, y)\n",
        "            # loss_iou = criterion['iou'](y_pred, y)\n",
        "            loss_cross_entropy = criterion['crossentropy'](z_pred, z)\n",
        "            loss = loss_dice + loss_cross_entropy\n",
        "            # metric_dice, metric_iou = dice_and_iou(y_pred, y)\n",
        "            metric_iou = score_segmentation(y_pred, y)\n",
        "            metric_precision = score_classification(z_pred, z)\n",
        "            metric_presicion_sum = metric_precision.sum()\n",
        "            self.batch_metrics = {\n",
        "                # 'Metric Dice': metric_dice,\n",
        "                # 'Metric IoU': metric_iou,\n",
        "                # 'Loss IoU': loss_iou,\n",
        "                'metric/presicion_sum': metric_precision_sum,\n",
        "                'metric/presicion_mean': metric_precision.mean(),\n",
        "                'metric/iou': metric_iou,\n",
        "                'loss/dice': loss_dice,\n",
        "                'loss/cross_entropy': loss_cross_entropy,\n",
        "                'loss': loss,\n",
        "                'score': metric_iou + metric_precision_sum,\n",
        "                'lr': self.state.scheduler.get_last_lr()[0],\n",
        "            }\n",
        "\n",
        "            if is_train:\n",
        "                loss.backward()\n",
        "                self.optimizer.step()\n",
        "                self.optimizer.zero_grad()\n",
        "                if self.global_batch_step == self.batch_size:\n",
        "                    self.scheduler.step()\n",
        "        \n",
        "        self.input = {'targets': z}\n",
        "        self.output = {'logits': z_pred}"
      ]
    },
    {
      "cell_type": "code",
      "execution_count": null,
      "metadata": {},
      "outputs": [],
      "source": [
        "dataset = BACTERIA(keys=['image', 'mask', 'label'])\n",
        "experiments = list(dataset.crossval(kfold=4, batch_size=16))\n",
        "num_experiment = 0\n",
        "loaders = experiments[num_experiment]\n",
        "runner = MultiRunner()\n",
        "runner.train(\n",
        "    loaders=loaders,\n",
        "    logdir=f'{logdir}/{num_experiment}',\n",
        "    num_epochs=100,\n",
        "    minimize_metric=False,\n",
        "    main_metric='score',\n",
        "    # verbose=True,\n",
        "    **components\n",
        ")"
      ]
    },
    {
      "cell_type": "code",
      "metadata": {
        "id": "PRuU8kNkIhX3",
        "colab_type": "code",
        "colab": {}
      },
      "source": [
        "! zip -r {logdir}.zip {logdir}\n",
        "! git pull origin master\n",
        "! git add logs\n",
        "! git commit -m 'Changed from Colab'\n",
        "! git push -u origin master"
      ],
      "execution_count": null,
      "outputs": []
    },
    {
      "cell_type": "code",
      "execution_count": null,
      "metadata": {},
      "outputs": [],
      "source": []
    }
  ],
  "metadata": {
    "orig_nbformat": 2,
    "colab": {
      "name": "multimodel.ipynb",
      "provenance": [],
      "include_colab_link": true
    },
    "kernelspec": {
      "name": "python3",
      "display_name": "Python 3"
    },
    "accelerator": "GPU"
  },
  "nbformat": 4,
  "nbformat_minor": 0
}