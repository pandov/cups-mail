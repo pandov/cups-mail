{
  "cells": [
    {
      "cell_type": "markdown",
      "metadata": {
        "id": "view-in-github",
        "colab_type": "text"
      },
      "source": [
        "<a href=\"https://colab.research.google.com/github/pandov/cups-mail/blob/master/multimodel.ipynb\" target=\"_parent\"><img src=\"https://colab.research.google.com/assets/colab-badge.svg\" alt=\"Open In Colab\"/></a>"
      ]
    },
    {
      "cell_type": "code",
      "metadata": {
        "id": "NwDrORydIhSo",
        "colab_type": "code",
        "colab": {}
      },
      "source": [
        "%%capture\n",
        "! sh colab.sh"
      ],
      "execution_count": null,
      "outputs": []
    },
    {
      "cell_type": "code",
      "metadata": {
        "id": "3UySCIgcSEXS",
        "colab_type": "code",
        "colab": {}
      },
      "source": [
        "%%capture\n",
        "import torch\n",
        "from src.nn import BACTERIA, Runner, get_multimodel_components, iou_metric\n",
        "logdir = './logs/multimodel'"
      ],
      "execution_count": null,
      "outputs": []
    },
    {
      "cell_type": "code",
      "metadata": {
        "id": "Q69mAoolIhUa",
        "colab_type": "code",
        "colab": {}
      },
      "source": [
        "%load_ext tensorboard\n",
        "%tensorboard --logdir $logdir"
      ],
      "execution_count": null,
      "outputs": []
    },
    {
      "cell_type": "code",
      "execution_count": null,
      "metadata": {},
      "outputs": [],
      "source": [
        "components = get_multimodel_components('resnet50', 'adam', 'steplr')\n",
        "criterion = components['criterion'].copy()\n",
        "callbacks = components['callbacks'].copy()\n",
        "del components['criterion']"
      ]
    },
    {
      "cell_type": "code",
      "execution_count": null,
      "metadata": {},
      "outputs": [],
      "source": [
        "class MultiRunner(Runner):\n",
        "\n",
        "    def _handle_batch(self, batch):\n",
        "        global criterion\n",
        "\n",
        "        x, y, z = batch\n",
        "        y_pred, z_pred = self.model(x)\n",
        "        is_train = self.is_train_loader == True\n",
        "\n",
        "        with torch.set_grad_enabled(is_train):\n",
        "            loss_dice = criterion['dice'](y_pred, y)\n",
        "            loss_crossentropy = criterion['crossentropy'](z_pred, z)\n",
        "            loss = loss_dice + loss_crossentropy\n",
        "            iou = iou_metric(y_pred, y)\n",
        "            self.state.batch_metrics.update({\n",
        "                'IoU': iou,\n",
        "                'Dice': loss_dice,\n",
        "                'CrossEntropy': loss_crossentropy,\n",
        "                'loss': loss,\n",
        "            })\n",
        "\n",
        "            if is_train:\n",
        "                loss.backward()\n",
        "                self.state.optimizer.step()\n",
        "                self.state.optimizer.zero_grad()\n",
        "        \n",
        "        self.input = {'targets': z}\n",
        "        self.output = {'logits': z_pred}"
      ]
    },
    {
      "cell_type": "code",
      "execution_count": null,
      "metadata": {},
      "outputs": [],
      "source": [
        "dataset = BACTERIA(keys=['image', 'mask', 'label'])\n",
        "experiments = list(dataset.crossval(kfold=4, batch_size=16))\n",
        "num_experiment = 0\n",
        "loaders = experiments[num_experiment]\n",
        "runner = MultiRunner()\n",
        "runner.train(\n",
        "    loaders=loaders,\n",
        "    logdir=f'{logdir}/{num_experiment}',\n",
        "    num_epochs=150,\n",
        "    # verbose=True,\n",
        "    **components\n",
        ")"
      ]
    },
    {
      "cell_type": "code",
      "metadata": {
        "id": "PRuU8kNkIhX3",
        "colab_type": "code",
        "colab": {}
      },
      "source": [
        "! zip -r {logdir}.zip {logdir}\n",
        "! git pull origin master\n",
        "! git add logs\n",
        "! git commit -m 'Changed from Colab'\n",
        "! git push -u origin master"
      ],
      "execution_count": null,
      "outputs": []
    },
    {
      "cell_type": "code",
      "metadata": {
        "id": "6fGT_k3qIhYW",
        "colab_type": "code",
        "colab": {}
      },
      "source": [
        ""
      ],
      "execution_count": null,
      "outputs": []
    }
  ],
  "metadata": {
    "orig_nbformat": 2,
    "colab": {
      "name": "multimodel.ipynb",
      "provenance": [],
      "include_colab_link": true
    },
    "kernelspec": {
      "name": "python3",
      "display_name": "Python 3"
    },
    "accelerator": "GPU"
  },
  "nbformat": 4,
  "nbformat_minor": 0
}