{
  "cells": [
    {
      "cell_type": "markdown",
      "metadata": {
        "id": "view-in-github",
        "colab_type": "text"
      },
      "source": [
        "<a href=\"https://colab.research.google.com/github/pandov/cups-mail/blob/master/segmentation.ipynb\" target=\"_parent\"><img src=\"https://colab.research.google.com/assets/colab-badge.svg\" alt=\"Open In Colab\"/></a>"
      ]
    },
    {
      "cell_type": "code",
      "metadata": {
        "id": "NwDrORydIhSo",
        "colab_type": "code",
        "colab": {}
      },
      "source": [
        "%%capture\n",
        "! sh colab.sh"
      ],
      "execution_count": null,
      "outputs": []
    },
    {
      "cell_type": "code",
      "metadata": {
        "id": "3UySCIgcSEXS",
        "colab_type": "code",
        "colab": {}
      },
      "source": [
        "%%capture\n",
        "from src.nn import BACTERIA, Runner, ConfusionMatrixCallback, get_multimodel_components, metrics\n",
        "logdir = './logs/segmentation'"
      ],
      "execution_count": null,
      "outputs": []
    },
    {
      "cell_type": "code",
      "metadata": {
        "id": "Q69mAoolIhUa",
        "colab_type": "code",
        "colab": {}
      },
      "source": [
        "%load_ext tensorboard\n",
        "%tensorboard --logdir $logdir"
      ],
      "execution_count": null,
      "outputs": []
    },
    {
      "cell_type": "code",
      "execution_count": null,
      "metadata": {},
      "outputs": [],
      "source": [
        "class MultiRunner(Runner):\n",
        "\n",
        "    def _handle_batch(self, batch):\n",
        "        global criterion\n",
        "\n",
        "        x, y, z = batch\n",
        "        y_pred, z_pred = self.model(x)\n",
        "        is_train = self.state.stage_name == 'train'\n",
        "\n",
        "        with torch.set_grad_enabled(is_train):\n",
        "            loss_dice = criterion['dice'](y_pred, y)\n",
        "            loss_crossentropy = criterion['crossentropy'](z_pred, z)\n",
        "            loss = loss_dice + loss_crossentropy\n",
        "            metric_iou = metrics.iou(y_pred, y)\n",
        "            self.state.batch_metrics.update({\n",
        "                'loss_dice': loss_dice,\n",
        "                'loss_crossentropy': loss_crossentropy,\n",
        "                'loss': loss,\n",
        "                'metric_iou': metric_iou,\n",
        "            })\n",
        "\n",
        "            if is_train:\n",
        "                loss.backward()\n",
        "                self.state.optimizer.step()\n",
        "                self.state.optimizer.zero_grad()"
      ]
    },
    {
      "cell_type": "code",
      "execution_count": null,
      "metadata": {},
      "outputs": [],
      "source": [
        "dataset = BACTERIA(keys=['image', 'mask', 'label'])\n",
        "experiments = list(dataset.crossval(kfold=4, batch_size=16))\n",
        "num_experiment = 0\n",
        "loaders = experiments[num_experiment]\n",
        "model, optimizer, scheduler, criterion = get_multimodel_components('resnet34', 'adam', 'steplr')\n",
        "model.train()\n",
        "runner = MultiRunner()\n",
        "runner.train(\n",
        "    model=model,\n",
        "    criterion=criterion,\n",
        "    optimizer=optimizer,\n",
        "    scheduler=scheduler,\n",
        "    callbacks=callbacks,\n",
        "    loaders=loaders,\n",
        "    logdir=f'{logdir}/{num_experiment}',\n",
        "    num_epochs=100,\n",
        "    verbose=True,\n",
        ")"
      ]
    },
    {
      "cell_type": "code",
      "metadata": {
        "id": "PRuU8kNkIhX3",
        "colab_type": "code",
        "colab": {}
      },
      "source": [
        "! zip -r {logdir}.zip {logdir}\n",
        "! git pull origin master\n",
        "! git add logs\n",
        "! git commit -m 'Changed from Colab'\n",
        "! git push -u origin master"
      ],
      "execution_count": null,
      "outputs": []
    },
    {
      "cell_type": "code",
      "metadata": {
        "id": "6fGT_k3qIhYW",
        "colab_type": "code",
        "colab": {}
      },
      "source": [
        ""
      ],
      "execution_count": null,
      "outputs": []
    }
  ],
  "metadata": {
    "orig_nbformat": 2,
    "colab": {
      "name": "segmentation.ipynb",
      "provenance": [],
      "include_colab_link": true
    },
    "kernelspec": {
      "name": "python3",
      "display_name": "Python 3"
    },
    "accelerator": "GPU"
  },
  "nbformat": 4,
  "nbformat_minor": 0
}