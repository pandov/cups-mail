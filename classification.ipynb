{
  "cells": [
    {
      "cell_type": "markdown",
      "metadata": {
        "id": "view-in-github",
        "colab_type": "text"
      },
      "source": [
        "<a href=\"https://colab.research.google.com/github/pandov/cups-mail/blob/master/classification.ipynb\" target=\"_parent\"><img src=\"https://colab.research.google.com/assets/colab-badge.svg\" alt=\"Open In Colab\"/></a>"
      ]
    },
    {
      "cell_type": "code",
      "execution_count": null,
      "metadata": {},
      "outputs": [],
      "source": [
        "from google.colab import drive\n",
        "drive.mount('/content/drive')"
      ]
    },
    {
      "cell_type": "code",
      "metadata": {
        "id": "D7vYyYl_lar2",
        "colab_type": "code",
        "colab": {}
      },
      "source": [
        "%%capture\n",
        "! sh colab.sh"
      ],
      "execution_count": null,
      "outputs": []
    },
    {
      "cell_type": "code",
      "metadata": {
        "id": "lmLAc2PeSaTS",
        "colab_type": "code",
        "colab": {}
      },
      "source": [
        "%%capture\n",
        "import torch\n",
        "from src.nn import BACTERIA, Runner, get_classification_components, get_loaders, score_clf\n",
        "logdir = './logs/classification'"
      ],
      "execution_count": null,
      "outputs": []
    },
    {
      "cell_type": "code",
      "metadata": {
        "id": "JRgAiKzglasS",
        "colab_type": "code",
        "colab": {}
      },
      "source": [
        "%load_ext tensorboard\n",
        "%tensorboard --logdir $logdir"
      ],
      "execution_count": null,
      "outputs": []
    },
    {
      "cell_type": "code",
      "execution_count": null,
      "metadata": {},
      "outputs": [],
      "source": [
        "class MultiRunner(Runner):\n",
        "    def _handle_batch(self, batch):\n",
        "        x, y = batch\n",
        "        y_pred = self.model(x)\n",
        "        is_train = self.is_train_loader == True\n",
        "\n",
        "        with torch.set_grad_enabled(is_train):\n",
        "            loss = self.criterion(y_pred, y)\n",
        "            precision = score_clf(y_pred, y)\n",
        "            self.batch_metrics.update({\n",
        "                'precision/_mean': precision.mean(),\n",
        "                'precision/_sum': precision.sum(),\n",
        "                'loss': loss,\n",
        "                'lr': self.state.scheduler.get_last_lr()[0],\n",
        "            })\n",
        "\n",
        "            if is_train:\n",
        "                loss.backward()\n",
        "                self.optimizer.step()\n",
        "                self.optimizer.zero_grad()\n",
        "            else:\n",
        "                if self.loader_batch_step == self.loader_len:\n",
        "                    self.scheduler.step()\n",
        "        \n",
        "        self.input = {'targets': y}\n",
        "        self.output = {'logits': y_pred}"
      ]
    },
    {
      "cell_type": "code",
      "execution_count": null,
      "metadata": {},
      "outputs": [],
      "source": [
        "net = 'resnet50'\n",
        "components = get_classification_components(net, 'adam', 'steplr', weightable=True)\n",
        "components['loaders'] = get_loaders(keys=['image', 'label'], batch_size=12, is_resized=True)\n",
        "runner = MultiRunner()\n",
        "runner.train(\n",
        "    logdir=f'{logdir}/{net}',\n",
        "    num_epochs=140,\n",
        "    # verbose=True,\n",
        "    **components\n",
        ")"
      ]
    },
    {
      "cell_type": "code",
      "metadata": {
        "id": "CtqzzClzlasm",
        "colab_type": "code",
        "colab": {}
      },
      "source": [
        "logzip = logdir + '.zip'\n",
        "! zip -r {logzip} {logdir}\n",
        "! mv {logzip} 'My Drive/drive/'\n",
        "# ! git pull origin master\n",
        "# ! git add logs\n",
        "# ! git commit -m 'Changed from Colab'\n",
        "# ! git push -u origin master"
      ],
      "execution_count": null,
      "outputs": []
    },
    {
      "cell_type": "code",
      "metadata": {
        "id": "ZMzF7Pa5last",
        "colab_type": "code",
        "colab": {}
      },
      "source": [
        ""
      ],
      "execution_count": null,
      "outputs": []
    }
  ],
  "metadata": {
    "orig_nbformat": 2,
    "kernelspec": {
      "name": "python3",
      "display_name": "Python 3"
    },
    "colab": {
      "name": "classification.ipynb",
      "provenance": [],
      "include_colab_link": true
    },
    "accelerator": "GPU"
  },
  "nbformat": 4,
  "nbformat_minor": 0
}